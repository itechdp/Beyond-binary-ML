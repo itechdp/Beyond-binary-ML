{
 "cells": [
  {
   "cell_type": "markdown",
   "metadata": {},
   "source": [
    "# Student Dropout and Academic Success\n",
    "Dataset Information\n",
    "For what purpose was the dataset created?\n",
    "- The dataset was created in a project that aims to contribute to the reduction of academic dropout and failure in higher education, by using machine learning techniques to identify students at risk at an early stage of their academic path, so that strategies to support them can be put into place. \n",
    "- The dataset includes information known at the time of student enrollment – academic path, demographics, and social-economic factors. \n",
    "- The problem is formulated as a three category classification task (dropout, enrolled, and graduate) at the end of the normal duration of the course. \n",
    "\n",
    "Who funded the creation of the dataset?\n",
    "- This dataset is supported by program SATDAP - Capacitação da Administração Pública under grant POCI-05-5762-FSE-000191, Portugal.\n",
    "\n",
    "What do the instances in this dataset represent?\n",
    "- Each instance is a student\n",
    "\n",
    "Are there recommended data splits?\n",
    "- The dataset was used, in our project, with a data split of 80% for training and 20% for test.\n",
    "\n",
    "Was there any data preprocessing performed?\n",
    "- We performed a rigorous data preprocessing to handle data from anomalies, unexplainable outliers, and missing values."
   ]
  },
  {
   "cell_type": "markdown",
   "metadata": {},
   "source": [
    "### Import Packages"
   ]
  },
  {
   "cell_type": "code",
   "execution_count": 85,
   "metadata": {},
   "outputs": [],
   "source": [
    "import pandas as pd\n",
    "import numpy as np\n",
    "import warnings\n",
    "import matplotlib.pyplot as plt \n",
    "from ucimlrepo import fetch_ucirepo \n",
    "from sklearn.preprocessing import OrdinalEncoder\n",
    "from sklearn.preprocessing import StandardScaler\n",
    "from sklearn.impute import SimpleImputer\n",
    "from sklearn.model_selection import train_test_split\n",
    "from sklearn.linear_model import LogisticRegression\n",
    "from sklearn.ensemble import BaggingClassifier\n",
    "from sklearn.ensemble import RandomForestClassifier\n",
    "from sklearn.ensemble import AdaBoostClassifier\n",
    "from sklearn.ensemble import GradientBoostingClassifier\n",
    "from sklearn.model_selection import cross_val_score\n",
    "from sklearn.model_selection import cross_val_predict\n",
    "from sklearn.metrics import precision_score, recall_score, f1_score\n",
    "from sklearn.metrics import confusion_matrix, ConfusionMatrixDisplay\n",
    "from sklearn.model_selection import GridSearchCV\n",
    "from sklearn.metrics import classification_report"
   ]
  },
  {
   "cell_type": "code",
   "execution_count": 50,
   "metadata": {},
   "outputs": [],
   "source": [
    "warnings.filterwarnings('ignore')"
   ]
  },
  {
   "cell_type": "markdown",
   "metadata": {},
   "source": [
    "### Import Dataset"
   ]
  },
  {
   "cell_type": "code",
   "execution_count": 51,
   "metadata": {},
   "outputs": [
    {
     "name": "stdout",
     "output_type": "stream",
     "text": [
      "{'uci_id': 697, 'name': \"Predict students' dropout and academic success\", 'repository_url': 'https://archive.ics.uci.edu/dataset/697/predict+students+dropout+and+academic+success', 'data_url': 'https://archive.ics.uci.edu/static/public/697/data.csv', 'abstract': \"A dataset created from a higher education institution (acquired from several disjoint databases) related to students enrolled in different undergraduate degrees, such as agronomy, design, education, nursing, journalism, management, social service, and technologies.\\nThe dataset includes information known at the time of student enrollment (academic path, demographics, and social-economic factors) and the students' academic performance at the end of the first and second semesters. \\nThe data is used to build classification models to predict students' dropout and academic sucess. The problem is formulated as a three category classification task, in which there is a strong imbalance towards one of the classes.\", 'area': 'Other', 'tasks': ['Classification'], 'characteristics': ['Tabular'], 'num_instances': 4424, 'num_features': 36, 'feature_types': [], 'demographics': ['Marital Status', 'Education Level', 'Nationality', 'Occupation', 'Gender', 'Age'], 'target_col': ['Target'], 'index_col': None, 'has_missing_values': 'no', 'missing_values_symbol': None, 'year_of_dataset_creation': 2021, 'last_updated': 'Mon Aug 28 2023', 'dataset_doi': '10.24432/C5MC89', 'creators': ['Valentim Realinho', 'Mónica Vieira Martins', 'Jorge Machado', 'Luís Baptista'], 'intro_paper': {'title': \"Early prediction of student's performance in higher education: a case study\", 'authors': 'Mónica V. Martins, Daniel Tolledo, Jorge Machado, Luís M. T. Baptista, and Valentim Realinho', 'published_in': 'Trends and Applications in Information Systems and Technologies', 'year': 2021, 'url': 'http://www.worldcist.org/2021/', 'doi': 'http://www.doi.org/10.1007/978-3-030-72657-7_16'}, 'additional_info': {'summary': None, 'purpose': 'The dataset was created in a project that aims to contribute to the reduction of academic dropout and failure in higher education, by using machine learning techniques to identify students at risk at an early stage of their academic path, so that strategies to support them can be put into place. \\n\\nThe dataset includes information known at the time of student enrollment – academic path, demographics, and social-economic factors. \\n\\nThe problem is formulated as a three category classification task (dropout, enrolled, and graduate) at the end of the normal duration of the course. \\n', 'funded_by': 'This dataset is supported by program SATDAP - Capacitação da Administração Pública under grant POCI-05-5762-FSE-000191, Portugal.', 'instances_represent': 'Each instance is a student', 'recommended_data_splits': 'The dataset was used, in our project, with a data split of 80% for training and 20% for test.', 'sensitive_data': None, 'preprocessing_description': 'We performed a rigorous data preprocessing to handle data from anomalies, unexplainable outliers, and missing values.', 'variable_info': None, 'citation': 'If you use this dataset in experiments for a scientific publication, please kindly cite our paper: \\nM.V.Martins, D. Tolledo, J. Machado, L. M.T. Baptista, V.Realinho. (2021) \"Early prediction of student’s performance in higher education: a case study\" Trends and Applications in Information Systems and Technologies, vol.1, in Advances in Intelligent Systems and Computing series. Springer. DOI: 10.1007/978-3-030-72657-7_16'}}\n",
      "                                              name     role         type  \\\n",
      "0                                   Marital Status  Feature      Integer   \n",
      "1                                 Application mode  Feature      Integer   \n",
      "2                                Application order  Feature      Integer   \n",
      "3                                           Course  Feature      Integer   \n",
      "4                       Daytime/evening attendance  Feature      Integer   \n",
      "5                           Previous qualification  Feature      Integer   \n",
      "6                   Previous qualification (grade)  Feature   Continuous   \n",
      "7                                      Nacionality  Feature      Integer   \n",
      "8                           Mother's qualification  Feature      Integer   \n",
      "9                           Father's qualification  Feature      Integer   \n",
      "10                             Mother's occupation  Feature      Integer   \n",
      "11                             Father's occupation  Feature      Integer   \n",
      "12                                 Admission grade  Feature   Continuous   \n",
      "13                                       Displaced  Feature      Integer   \n",
      "14                       Educational special needs  Feature      Integer   \n",
      "15                                          Debtor  Feature      Integer   \n",
      "16                         Tuition fees up to date  Feature      Integer   \n",
      "17                                          Gender  Feature      Integer   \n",
      "18                              Scholarship holder  Feature      Integer   \n",
      "19                               Age at enrollment  Feature      Integer   \n",
      "20                                   International  Feature      Integer   \n",
      "21             Curricular units 1st sem (credited)  Feature      Integer   \n",
      "22             Curricular units 1st sem (enrolled)  Feature      Integer   \n",
      "23          Curricular units 1st sem (evaluations)  Feature      Integer   \n",
      "24             Curricular units 1st sem (approved)  Feature      Integer   \n",
      "25                Curricular units 1st sem (grade)  Feature      Integer   \n",
      "26  Curricular units 1st sem (without evaluations)  Feature      Integer   \n",
      "27             Curricular units 2nd sem (credited)  Feature      Integer   \n",
      "28             Curricular units 2nd sem (enrolled)  Feature      Integer   \n",
      "29          Curricular units 2nd sem (evaluations)  Feature      Integer   \n",
      "30             Curricular units 2nd sem (approved)  Feature      Integer   \n",
      "31                Curricular units 2nd sem (grade)  Feature      Integer   \n",
      "32  Curricular units 2nd sem (without evaluations)  Feature      Integer   \n",
      "33                               Unemployment rate  Feature   Continuous   \n",
      "34                                  Inflation rate  Feature   Continuous   \n",
      "35                                             GDP  Feature   Continuous   \n",
      "36                                          Target   Target  Categorical   \n",
      "\n",
      "        demographic                                        description units  \\\n",
      "0    Marital Status  1 – single 2 – married 3 – widower 4 – divorce...  None   \n",
      "1              None  1 - 1st phase - general contingent 2 - Ordinan...  None   \n",
      "2              None  Application order (between 0 - first choice; a...  None   \n",
      "3              None  33 - Biofuel Production Technologies 171 - Ani...  None   \n",
      "4              None                            1 – daytime 0 - evening  None   \n",
      "5   Education Level  1 - Secondary education 2 - Higher education -...  None   \n",
      "6              None  Grade of previous qualification (between 0 and...  None   \n",
      "7       Nationality  1 - Portuguese; 2 - German; 6 - Spanish; 11 - ...  None   \n",
      "8   Education Level  1 - Secondary Education - 12th Year of Schooli...  None   \n",
      "9   Education Level  1 - Secondary Education - 12th Year of Schooli...  None   \n",
      "10       Occupation  0 - Student 1 - Representatives of the Legisla...  None   \n",
      "11       Occupation  0 - Student 1 - Representatives of the Legisla...  None   \n",
      "12             None                Admission grade (between 0 and 200)  None   \n",
      "13             None                                     1 – yes 0 – no  None   \n",
      "14             None                                     1 – yes 0 – no  None   \n",
      "15             None                                     1 – yes 0 – no  None   \n",
      "16             None                                     1 – yes 0 – no  None   \n",
      "17           Gender                                1 – male 0 – female  None   \n",
      "18             None                                     1 – yes 0 – no  None   \n",
      "19              Age                       Age of studend at enrollment  None   \n",
      "20             None                                     1 – yes 0 – no  None   \n",
      "21             None  Number of curricular units credited in the 1st...  None   \n",
      "22             None  Number of curricular units enrolled in the 1st...  None   \n",
      "23             None  Number of evaluations to curricular units in t...  None   \n",
      "24             None  Number of curricular units approved in the 1st...  None   \n",
      "25             None  Grade average in the 1st semester (between 0 a...  None   \n",
      "26             None  Number of curricular units without evalutions ...  None   \n",
      "27             None  Number of curricular units credited in the 2nd...  None   \n",
      "28             None  Number of curricular units enrolled in the 2nd...  None   \n",
      "29             None  Number of evaluations to curricular units in t...  None   \n",
      "30             None  Number of curricular units approved in the 2nd...  None   \n",
      "31             None  Grade average in the 2nd semester (between 0 a...  None   \n",
      "32             None  Number of curricular units without evalutions ...  None   \n",
      "33             None                              Unemployment rate (%)  None   \n",
      "34             None                                 Inflation rate (%)  None   \n",
      "35             None                                                GDP  None   \n",
      "36             None  Target. The problem is formulated as a three c...  None   \n",
      "\n",
      "   missing_values  \n",
      "0              no  \n",
      "1              no  \n",
      "2              no  \n",
      "3              no  \n",
      "4              no  \n",
      "5              no  \n",
      "6              no  \n",
      "7              no  \n",
      "8              no  \n",
      "9              no  \n",
      "10             no  \n",
      "11             no  \n",
      "12             no  \n",
      "13             no  \n",
      "14             no  \n",
      "15             no  \n",
      "16             no  \n",
      "17             no  \n",
      "18             no  \n",
      "19             no  \n",
      "20             no  \n",
      "21             no  \n",
      "22             no  \n",
      "23             no  \n",
      "24             no  \n",
      "25             no  \n",
      "26             no  \n",
      "27             no  \n",
      "28             no  \n",
      "29             no  \n",
      "30             no  \n",
      "31             no  \n",
      "32             no  \n",
      "33             no  \n",
      "34             no  \n",
      "35             no  \n",
      "36             no  \n"
     ]
    }
   ],
   "source": [
    "# fetch dataset \n",
    "predict_students_dropout_and_academic_success = fetch_ucirepo(id=697) \n",
    "  \n",
    "# data (as pandas dataframes) \n",
    "X = predict_students_dropout_and_academic_success.data.features \n",
    "y = predict_students_dropout_and_academic_success.data.targets \n",
    "  \n",
    "# metadata \n",
    "print(predict_students_dropout_and_academic_success.metadata) \n",
    "  \n",
    "# variable information \n",
    "print(predict_students_dropout_and_academic_success.variables) \n"
   ]
  },
  {
   "cell_type": "markdown",
   "metadata": {},
   "source": [
    "# Exploratory Data Analysis\n",
    "- Converting Features & Target in DataFrame\n",
    "- Information about Features and Target\n",
    "- Describing Dataset\n",
    "- Corrleation between Features and Target\n",
    "- Dropping Features with less correlations\n",
    "- N-Unique Values in Target \n",
    "- Value counts in Target \n",
    "- Checking Missing Values\n",
    "- Checking for the outliers"
   ]
  },
  {
   "cell_type": "markdown",
   "metadata": {},
   "source": [
    "### Converting Features & Target in DataFrame"
   ]
  },
  {
   "cell_type": "code",
   "execution_count": 52,
   "metadata": {},
   "outputs": [],
   "source": [
    "df_features = pd.DataFrame(X)\n",
    "df_target = pd.DataFrame(y)"
   ]
  },
  {
   "cell_type": "markdown",
   "metadata": {},
   "source": [
    "### Information about Features and Target"
   ]
  },
  {
   "cell_type": "code",
   "execution_count": 53,
   "metadata": {},
   "outputs": [
    {
     "name": "stdout",
     "output_type": "stream",
     "text": [
      "<class 'pandas.core.frame.DataFrame'>\n",
      "RangeIndex: 4424 entries, 0 to 4423\n",
      "Data columns (total 36 columns):\n",
      " #   Column                                          Non-Null Count  Dtype  \n",
      "---  ------                                          --------------  -----  \n",
      " 0   Marital Status                                  4424 non-null   int64  \n",
      " 1   Application mode                                4424 non-null   int64  \n",
      " 2   Application order                               4424 non-null   int64  \n",
      " 3   Course                                          4424 non-null   int64  \n",
      " 4   Daytime/evening attendance                      4424 non-null   int64  \n",
      " 5   Previous qualification                          4424 non-null   int64  \n",
      " 6   Previous qualification (grade)                  4424 non-null   float64\n",
      " 7   Nacionality                                     4424 non-null   int64  \n",
      " 8   Mother's qualification                          4424 non-null   int64  \n",
      " 9   Father's qualification                          4424 non-null   int64  \n",
      " 10  Mother's occupation                             4424 non-null   int64  \n",
      " 11  Father's occupation                             4424 non-null   int64  \n",
      " 12  Admission grade                                 4424 non-null   float64\n",
      " 13  Displaced                                       4424 non-null   int64  \n",
      " 14  Educational special needs                       4424 non-null   int64  \n",
      " 15  Debtor                                          4424 non-null   int64  \n",
      " 16  Tuition fees up to date                         4424 non-null   int64  \n",
      " 17  Gender                                          4424 non-null   int64  \n",
      " 18  Scholarship holder                              4424 non-null   int64  \n",
      " 19  Age at enrollment                               4424 non-null   int64  \n",
      " 20  International                                   4424 non-null   int64  \n",
      " 21  Curricular units 1st sem (credited)             4424 non-null   int64  \n",
      " 22  Curricular units 1st sem (enrolled)             4424 non-null   int64  \n",
      " 23  Curricular units 1st sem (evaluations)          4424 non-null   int64  \n",
      " 24  Curricular units 1st sem (approved)             4424 non-null   int64  \n",
      " 25  Curricular units 1st sem (grade)                4424 non-null   float64\n",
      " 26  Curricular units 1st sem (without evaluations)  4424 non-null   int64  \n",
      " 27  Curricular units 2nd sem (credited)             4424 non-null   int64  \n",
      " 28  Curricular units 2nd sem (enrolled)             4424 non-null   int64  \n",
      " 29  Curricular units 2nd sem (evaluations)          4424 non-null   int64  \n",
      " 30  Curricular units 2nd sem (approved)             4424 non-null   int64  \n",
      " 31  Curricular units 2nd sem (grade)                4424 non-null   float64\n",
      " 32  Curricular units 2nd sem (without evaluations)  4424 non-null   int64  \n",
      " 33  Unemployment rate                               4424 non-null   float64\n",
      " 34  Inflation rate                                  4424 non-null   float64\n",
      " 35  GDP                                             4424 non-null   float64\n",
      "dtypes: float64(7), int64(29)\n",
      "memory usage: 1.2 MB\n"
     ]
    }
   ],
   "source": [
    "df_features.info()"
   ]
  },
  {
   "cell_type": "code",
   "execution_count": 54,
   "metadata": {},
   "outputs": [
    {
     "name": "stdout",
     "output_type": "stream",
     "text": [
      "<class 'pandas.core.frame.DataFrame'>\n",
      "RangeIndex: 4424 entries, 0 to 4423\n",
      "Data columns (total 1 columns):\n",
      " #   Column  Non-Null Count  Dtype \n",
      "---  ------  --------------  ----- \n",
      " 0   Target  4424 non-null   object\n",
      "dtypes: object(1)\n",
      "memory usage: 34.7+ KB\n"
     ]
    }
   ],
   "source": [
    "df_target.info()"
   ]
  },
  {
   "cell_type": "markdown",
   "metadata": {},
   "source": [
    "### Describing Dataset"
   ]
  },
  {
   "cell_type": "code",
   "execution_count": 55,
   "metadata": {},
   "outputs": [
    {
     "data": {
      "text/html": [
       "<div>\n",
       "<style scoped>\n",
       "    .dataframe tbody tr th:only-of-type {\n",
       "        vertical-align: middle;\n",
       "    }\n",
       "\n",
       "    .dataframe tbody tr th {\n",
       "        vertical-align: top;\n",
       "    }\n",
       "\n",
       "    .dataframe thead th {\n",
       "        text-align: right;\n",
       "    }\n",
       "</style>\n",
       "<table border=\"1\" class=\"dataframe\">\n",
       "  <thead>\n",
       "    <tr style=\"text-align: right;\">\n",
       "      <th></th>\n",
       "      <th>Marital Status</th>\n",
       "      <th>Application mode</th>\n",
       "      <th>Application order</th>\n",
       "      <th>Course</th>\n",
       "      <th>Daytime/evening attendance</th>\n",
       "      <th>Previous qualification</th>\n",
       "      <th>Previous qualification (grade)</th>\n",
       "      <th>Nacionality</th>\n",
       "      <th>Mother's qualification</th>\n",
       "      <th>Father's qualification</th>\n",
       "      <th>...</th>\n",
       "      <th>Curricular units 1st sem (without evaluations)</th>\n",
       "      <th>Curricular units 2nd sem (credited)</th>\n",
       "      <th>Curricular units 2nd sem (enrolled)</th>\n",
       "      <th>Curricular units 2nd sem (evaluations)</th>\n",
       "      <th>Curricular units 2nd sem (approved)</th>\n",
       "      <th>Curricular units 2nd sem (grade)</th>\n",
       "      <th>Curricular units 2nd sem (without evaluations)</th>\n",
       "      <th>Unemployment rate</th>\n",
       "      <th>Inflation rate</th>\n",
       "      <th>GDP</th>\n",
       "    </tr>\n",
       "  </thead>\n",
       "  <tbody>\n",
       "    <tr>\n",
       "      <th>count</th>\n",
       "      <td>4424.000000</td>\n",
       "      <td>4424.000000</td>\n",
       "      <td>4424.000000</td>\n",
       "      <td>4424.000000</td>\n",
       "      <td>4424.000000</td>\n",
       "      <td>4424.000000</td>\n",
       "      <td>4424.000000</td>\n",
       "      <td>4424.000000</td>\n",
       "      <td>4424.000000</td>\n",
       "      <td>4424.000000</td>\n",
       "      <td>...</td>\n",
       "      <td>4424.000000</td>\n",
       "      <td>4424.000000</td>\n",
       "      <td>4424.000000</td>\n",
       "      <td>4424.000000</td>\n",
       "      <td>4424.000000</td>\n",
       "      <td>4424.000000</td>\n",
       "      <td>4424.000000</td>\n",
       "      <td>4424.000000</td>\n",
       "      <td>4424.000000</td>\n",
       "      <td>4424.000000</td>\n",
       "    </tr>\n",
       "    <tr>\n",
       "      <th>mean</th>\n",
       "      <td>1.178571</td>\n",
       "      <td>18.669078</td>\n",
       "      <td>1.727848</td>\n",
       "      <td>8856.642631</td>\n",
       "      <td>0.890823</td>\n",
       "      <td>4.577758</td>\n",
       "      <td>132.613314</td>\n",
       "      <td>1.873192</td>\n",
       "      <td>19.561935</td>\n",
       "      <td>22.275316</td>\n",
       "      <td>...</td>\n",
       "      <td>0.137658</td>\n",
       "      <td>0.541817</td>\n",
       "      <td>6.232143</td>\n",
       "      <td>8.063291</td>\n",
       "      <td>4.435805</td>\n",
       "      <td>10.230206</td>\n",
       "      <td>0.150316</td>\n",
       "      <td>11.566139</td>\n",
       "      <td>1.228029</td>\n",
       "      <td>0.001969</td>\n",
       "    </tr>\n",
       "    <tr>\n",
       "      <th>std</th>\n",
       "      <td>0.605747</td>\n",
       "      <td>17.484682</td>\n",
       "      <td>1.313793</td>\n",
       "      <td>2063.566416</td>\n",
       "      <td>0.311897</td>\n",
       "      <td>10.216592</td>\n",
       "      <td>13.188332</td>\n",
       "      <td>6.914514</td>\n",
       "      <td>15.603186</td>\n",
       "      <td>15.343108</td>\n",
       "      <td>...</td>\n",
       "      <td>0.690880</td>\n",
       "      <td>1.918546</td>\n",
       "      <td>2.195951</td>\n",
       "      <td>3.947951</td>\n",
       "      <td>3.014764</td>\n",
       "      <td>5.210808</td>\n",
       "      <td>0.753774</td>\n",
       "      <td>2.663850</td>\n",
       "      <td>1.382711</td>\n",
       "      <td>2.269935</td>\n",
       "    </tr>\n",
       "    <tr>\n",
       "      <th>min</th>\n",
       "      <td>1.000000</td>\n",
       "      <td>1.000000</td>\n",
       "      <td>0.000000</td>\n",
       "      <td>33.000000</td>\n",
       "      <td>0.000000</td>\n",
       "      <td>1.000000</td>\n",
       "      <td>95.000000</td>\n",
       "      <td>1.000000</td>\n",
       "      <td>1.000000</td>\n",
       "      <td>1.000000</td>\n",
       "      <td>...</td>\n",
       "      <td>0.000000</td>\n",
       "      <td>0.000000</td>\n",
       "      <td>0.000000</td>\n",
       "      <td>0.000000</td>\n",
       "      <td>0.000000</td>\n",
       "      <td>0.000000</td>\n",
       "      <td>0.000000</td>\n",
       "      <td>7.600000</td>\n",
       "      <td>-0.800000</td>\n",
       "      <td>-4.060000</td>\n",
       "    </tr>\n",
       "    <tr>\n",
       "      <th>25%</th>\n",
       "      <td>1.000000</td>\n",
       "      <td>1.000000</td>\n",
       "      <td>1.000000</td>\n",
       "      <td>9085.000000</td>\n",
       "      <td>1.000000</td>\n",
       "      <td>1.000000</td>\n",
       "      <td>125.000000</td>\n",
       "      <td>1.000000</td>\n",
       "      <td>2.000000</td>\n",
       "      <td>3.000000</td>\n",
       "      <td>...</td>\n",
       "      <td>0.000000</td>\n",
       "      <td>0.000000</td>\n",
       "      <td>5.000000</td>\n",
       "      <td>6.000000</td>\n",
       "      <td>2.000000</td>\n",
       "      <td>10.750000</td>\n",
       "      <td>0.000000</td>\n",
       "      <td>9.400000</td>\n",
       "      <td>0.300000</td>\n",
       "      <td>-1.700000</td>\n",
       "    </tr>\n",
       "    <tr>\n",
       "      <th>50%</th>\n",
       "      <td>1.000000</td>\n",
       "      <td>17.000000</td>\n",
       "      <td>1.000000</td>\n",
       "      <td>9238.000000</td>\n",
       "      <td>1.000000</td>\n",
       "      <td>1.000000</td>\n",
       "      <td>133.100000</td>\n",
       "      <td>1.000000</td>\n",
       "      <td>19.000000</td>\n",
       "      <td>19.000000</td>\n",
       "      <td>...</td>\n",
       "      <td>0.000000</td>\n",
       "      <td>0.000000</td>\n",
       "      <td>6.000000</td>\n",
       "      <td>8.000000</td>\n",
       "      <td>5.000000</td>\n",
       "      <td>12.200000</td>\n",
       "      <td>0.000000</td>\n",
       "      <td>11.100000</td>\n",
       "      <td>1.400000</td>\n",
       "      <td>0.320000</td>\n",
       "    </tr>\n",
       "    <tr>\n",
       "      <th>75%</th>\n",
       "      <td>1.000000</td>\n",
       "      <td>39.000000</td>\n",
       "      <td>2.000000</td>\n",
       "      <td>9556.000000</td>\n",
       "      <td>1.000000</td>\n",
       "      <td>1.000000</td>\n",
       "      <td>140.000000</td>\n",
       "      <td>1.000000</td>\n",
       "      <td>37.000000</td>\n",
       "      <td>37.000000</td>\n",
       "      <td>...</td>\n",
       "      <td>0.000000</td>\n",
       "      <td>0.000000</td>\n",
       "      <td>7.000000</td>\n",
       "      <td>10.000000</td>\n",
       "      <td>6.000000</td>\n",
       "      <td>13.333333</td>\n",
       "      <td>0.000000</td>\n",
       "      <td>13.900000</td>\n",
       "      <td>2.600000</td>\n",
       "      <td>1.790000</td>\n",
       "    </tr>\n",
       "    <tr>\n",
       "      <th>max</th>\n",
       "      <td>6.000000</td>\n",
       "      <td>57.000000</td>\n",
       "      <td>9.000000</td>\n",
       "      <td>9991.000000</td>\n",
       "      <td>1.000000</td>\n",
       "      <td>43.000000</td>\n",
       "      <td>190.000000</td>\n",
       "      <td>109.000000</td>\n",
       "      <td>44.000000</td>\n",
       "      <td>44.000000</td>\n",
       "      <td>...</td>\n",
       "      <td>12.000000</td>\n",
       "      <td>19.000000</td>\n",
       "      <td>23.000000</td>\n",
       "      <td>33.000000</td>\n",
       "      <td>20.000000</td>\n",
       "      <td>18.571429</td>\n",
       "      <td>12.000000</td>\n",
       "      <td>16.200000</td>\n",
       "      <td>3.700000</td>\n",
       "      <td>3.510000</td>\n",
       "    </tr>\n",
       "  </tbody>\n",
       "</table>\n",
       "<p>8 rows × 36 columns</p>\n",
       "</div>"
      ],
      "text/plain": [
       "       Marital Status  Application mode  Application order       Course  \\\n",
       "count     4424.000000       4424.000000        4424.000000  4424.000000   \n",
       "mean         1.178571         18.669078           1.727848  8856.642631   \n",
       "std          0.605747         17.484682           1.313793  2063.566416   \n",
       "min          1.000000          1.000000           0.000000    33.000000   \n",
       "25%          1.000000          1.000000           1.000000  9085.000000   \n",
       "50%          1.000000         17.000000           1.000000  9238.000000   \n",
       "75%          1.000000         39.000000           2.000000  9556.000000   \n",
       "max          6.000000         57.000000           9.000000  9991.000000   \n",
       "\n",
       "       Daytime/evening attendance  Previous qualification  \\\n",
       "count                 4424.000000             4424.000000   \n",
       "mean                     0.890823                4.577758   \n",
       "std                      0.311897               10.216592   \n",
       "min                      0.000000                1.000000   \n",
       "25%                      1.000000                1.000000   \n",
       "50%                      1.000000                1.000000   \n",
       "75%                      1.000000                1.000000   \n",
       "max                      1.000000               43.000000   \n",
       "\n",
       "       Previous qualification (grade)  Nacionality  Mother's qualification  \\\n",
       "count                     4424.000000  4424.000000             4424.000000   \n",
       "mean                       132.613314     1.873192               19.561935   \n",
       "std                         13.188332     6.914514               15.603186   \n",
       "min                         95.000000     1.000000                1.000000   \n",
       "25%                        125.000000     1.000000                2.000000   \n",
       "50%                        133.100000     1.000000               19.000000   \n",
       "75%                        140.000000     1.000000               37.000000   \n",
       "max                        190.000000   109.000000               44.000000   \n",
       "\n",
       "       Father's qualification  ...  \\\n",
       "count             4424.000000  ...   \n",
       "mean                22.275316  ...   \n",
       "std                 15.343108  ...   \n",
       "min                  1.000000  ...   \n",
       "25%                  3.000000  ...   \n",
       "50%                 19.000000  ...   \n",
       "75%                 37.000000  ...   \n",
       "max                 44.000000  ...   \n",
       "\n",
       "       Curricular units 1st sem (without evaluations)  \\\n",
       "count                                     4424.000000   \n",
       "mean                                         0.137658   \n",
       "std                                          0.690880   \n",
       "min                                          0.000000   \n",
       "25%                                          0.000000   \n",
       "50%                                          0.000000   \n",
       "75%                                          0.000000   \n",
       "max                                         12.000000   \n",
       "\n",
       "       Curricular units 2nd sem (credited)  \\\n",
       "count                          4424.000000   \n",
       "mean                              0.541817   \n",
       "std                               1.918546   \n",
       "min                               0.000000   \n",
       "25%                               0.000000   \n",
       "50%                               0.000000   \n",
       "75%                               0.000000   \n",
       "max                              19.000000   \n",
       "\n",
       "       Curricular units 2nd sem (enrolled)  \\\n",
       "count                          4424.000000   \n",
       "mean                              6.232143   \n",
       "std                               2.195951   \n",
       "min                               0.000000   \n",
       "25%                               5.000000   \n",
       "50%                               6.000000   \n",
       "75%                               7.000000   \n",
       "max                              23.000000   \n",
       "\n",
       "       Curricular units 2nd sem (evaluations)  \\\n",
       "count                             4424.000000   \n",
       "mean                                 8.063291   \n",
       "std                                  3.947951   \n",
       "min                                  0.000000   \n",
       "25%                                  6.000000   \n",
       "50%                                  8.000000   \n",
       "75%                                 10.000000   \n",
       "max                                 33.000000   \n",
       "\n",
       "       Curricular units 2nd sem (approved)  Curricular units 2nd sem (grade)  \\\n",
       "count                          4424.000000                       4424.000000   \n",
       "mean                              4.435805                         10.230206   \n",
       "std                               3.014764                          5.210808   \n",
       "min                               0.000000                          0.000000   \n",
       "25%                               2.000000                         10.750000   \n",
       "50%                               5.000000                         12.200000   \n",
       "75%                               6.000000                         13.333333   \n",
       "max                              20.000000                         18.571429   \n",
       "\n",
       "       Curricular units 2nd sem (without evaluations)  Unemployment rate  \\\n",
       "count                                     4424.000000        4424.000000   \n",
       "mean                                         0.150316          11.566139   \n",
       "std                                          0.753774           2.663850   \n",
       "min                                          0.000000           7.600000   \n",
       "25%                                          0.000000           9.400000   \n",
       "50%                                          0.000000          11.100000   \n",
       "75%                                          0.000000          13.900000   \n",
       "max                                         12.000000          16.200000   \n",
       "\n",
       "       Inflation rate          GDP  \n",
       "count     4424.000000  4424.000000  \n",
       "mean         1.228029     0.001969  \n",
       "std          1.382711     2.269935  \n",
       "min         -0.800000    -4.060000  \n",
       "25%          0.300000    -1.700000  \n",
       "50%          1.400000     0.320000  \n",
       "75%          2.600000     1.790000  \n",
       "max          3.700000     3.510000  \n",
       "\n",
       "[8 rows x 36 columns]"
      ]
     },
     "execution_count": 55,
     "metadata": {},
     "output_type": "execute_result"
    }
   ],
   "source": [
    "df_features.describe()"
   ]
  },
  {
   "cell_type": "markdown",
   "metadata": {},
   "source": [
    "### Corrlations between Features and Target"
   ]
  },
  {
   "cell_type": "code",
   "execution_count": 56,
   "metadata": {},
   "outputs": [],
   "source": [
    "df_corr = pd.concat([df_features,pd.get_dummies(df_target)],axis=1).corr()"
   ]
  },
  {
   "cell_type": "code",
   "execution_count": 57,
   "metadata": {},
   "outputs": [
    {
     "name": "stdout",
     "output_type": "stream",
     "text": [
      "Target_Dropout                                    1.000000\n",
      "Age at enrollment                                 0.254215\n",
      "Debtor                                            0.229407\n",
      "Gender                                            0.203983\n",
      "Application mode                                  0.198458\n",
      "Marital Status                                    0.093712\n",
      "Curricular units 2nd sem (without evaluations)    0.079901\n",
      "Mother's qualification                            0.064958\n",
      "Curricular units 1st sem (without evaluations)    0.054230\n",
      "Previous qualification                            0.049379\n",
      "Inflation rate                                    0.027826\n",
      "Father's qualification                            0.018295\n",
      "Unemployment rate                                 0.012980\n",
      "Nacionality                                       0.008346\n",
      "Educational special needs                         0.002806\n",
      "International                                    -0.010360\n",
      "Mother's occupation                              -0.021999\n",
      "Father's occupation                              -0.024260\n",
      "Curricular units 1st sem (credited)              -0.029308\n",
      "Curricular units 2nd sem (credited)              -0.033038\n",
      "Course                                           -0.033676\n",
      "GDP                                              -0.046319\n",
      "Application order                                -0.070485\n",
      "Previous qualification (grade)                   -0.078208\n",
      "Daytime/evening attendance                       -0.080499\n",
      "Curricular units 1st sem (evaluations)           -0.090125\n",
      "Admission grade                                  -0.095806\n",
      "Displaced                                        -0.107232\n",
      "Curricular units 1st sem (enrolled)              -0.124635\n",
      "Curricular units 2nd sem (enrolled)              -0.141515\n",
      "Curricular units 2nd sem (evaluations)           -0.154999\n",
      "Scholarship holder                               -0.245354\n",
      "Target_Enrolled                                  -0.321719\n",
      "Tuition fees up to date                          -0.429149\n",
      "Curricular units 1st sem (approved)              -0.479112\n",
      "Curricular units 1st sem (grade)                 -0.480669\n",
      "Curricular units 2nd sem (approved)              -0.569500\n",
      "Curricular units 2nd sem (grade)                 -0.571792\n",
      "Target_Graduate                                  -0.686958\n",
      "Name: Target_Dropout, dtype: float64\n"
     ]
    }
   ],
   "source": [
    "print(df_corr['Target_Dropout'].sort_values(ascending=False))"
   ]
  },
  {
   "cell_type": "code",
   "execution_count": 58,
   "metadata": {},
   "outputs": [
    {
     "data": {
      "text/plain": [
       "Target_Enrolled                                   1.000000\n",
       "Curricular units 2nd sem (evaluations)            0.162607\n",
       "Curricular units 1st sem (evaluations)            0.116654\n",
       "Tuition fees up to date                           0.095864\n",
       "Curricular units 2nd sem (grade)                  0.079635\n",
       "Mother's occupation                               0.066563\n",
       "Father's occupation                               0.063434\n",
       "Curricular units 1st sem (grade)                  0.046781\n",
       "Gender                                            0.034214\n",
       "Application mode                                  0.030247\n",
       "Curricular units 1st sem (without evaluations)    0.027029\n",
       "Curricular units 2nd sem (without evaluations)    0.023171\n",
       "Daytime/evening attendance                        0.022073\n",
       "International                                     0.016106\n",
       "Nacionality                                       0.013946\n",
       "GDP                                               0.010575\n",
       "Educational special needs                         0.010190\n",
       "Previous qualification                            0.009529\n",
       "Course                                            0.002758\n",
       "Debtor                                           -0.000513\n",
       "Displaced                                        -0.002850\n",
       "Inflation rate                                   -0.005519\n",
       "Marital Status                                   -0.020214\n",
       "Application order                                -0.036280\n",
       "Curricular units 1st sem (credited)              -0.040113\n",
       "Father's qualification                           -0.041297\n",
       "Curricular units 2nd sem (credited)              -0.044585\n",
       "Admission grade                                  -0.046634\n",
       "Previous qualification (grade)                   -0.049826\n",
       "Unemployment rate                                -0.051552\n",
       "Age at enrollment                                -0.055241\n",
       "Curricular units 1st sem (enrolled)              -0.057678\n",
       "Mother's qualification                           -0.058149\n",
       "Curricular units 2nd sem (approved)              -0.058627\n",
       "Curricular units 1st sem (approved)              -0.058646\n",
       "Curricular units 2nd sem (enrolled)              -0.062592\n",
       "Scholarship holder                               -0.091666\n",
       "Target_Dropout                                   -0.321719\n",
       "Target_Graduate                                  -0.467055\n",
       "Name: Target_Enrolled, dtype: float64"
      ]
     },
     "execution_count": 58,
     "metadata": {},
     "output_type": "execute_result"
    }
   ],
   "source": [
    "df_corr['Target_Enrolled'].sort_values(ascending=False)"
   ]
  },
  {
   "cell_type": "code",
   "execution_count": 59,
   "metadata": {},
   "outputs": [
    {
     "data": {
      "text/plain": [
       "Target_Graduate                                   1.000000\n",
       "Curricular units 2nd sem (approved)               0.576840\n",
       "Curricular units 1st sem (approved)               0.492443\n",
       "Curricular units 2nd sem (grade)                  0.472864\n",
       "Curricular units 1st sem (grade)                  0.412982\n",
       "Tuition fees up to date                           0.327197\n",
       "Scholarship holder                                0.299484\n",
       "Curricular units 2nd sem (enrolled)               0.180197\n",
       "Curricular units 1st sem (enrolled)               0.160661\n",
       "Admission grade                                   0.125263\n",
       "Previous qualification (grade)                    0.111278\n",
       "Displaced                                         0.102329\n",
       "Application order                                 0.093670\n",
       "Curricular units 2nd sem (credited)               0.065073\n",
       "Daytime/evening attendance                        0.058235\n",
       "Curricular units 1st sem (credited)               0.058157\n",
       "GDP                                               0.035140\n",
       "Course                                            0.029333\n",
       "Unemployment rate                                 0.027445\n",
       "Curricular units 2nd sem (evaluations)            0.019949\n",
       "Father's qualification                            0.014611\n",
       "International                                    -0.002687\n",
       "Curricular units 1st sem (evaluations)           -0.005366\n",
       "Educational special needs                        -0.010441\n",
       "Mother's qualification                           -0.016033\n",
       "Nacionality                                      -0.018497\n",
       "Inflation rate                                   -0.021750\n",
       "Father's occupation                              -0.026029\n",
       "Mother's occupation                              -0.030543\n",
       "Previous qualification                           -0.053427\n",
       "Curricular units 1st sem (without evaluations)   -0.071390\n",
       "Marital Status                                   -0.072001\n",
       "Curricular units 2nd sem (without evaluations)   -0.092402\n",
       "Age at enrollment                                -0.195009\n",
       "Application mode                                 -0.208550\n",
       "Debtor                                           -0.213845\n",
       "Gender                                           -0.216754\n",
       "Target_Enrolled                                  -0.467055\n",
       "Target_Dropout                                   -0.686958\n",
       "Name: Target_Graduate, dtype: float64"
      ]
     },
     "execution_count": 59,
     "metadata": {},
     "output_type": "execute_result"
    }
   ],
   "source": [
    "df_corr['Target_Graduate'].sort_values(ascending=False)"
   ]
  },
  {
   "cell_type": "markdown",
   "metadata": {},
   "source": [
    "### Dropping Features with less correlations"
   ]
  },
  {
   "cell_type": "code",
   "execution_count": 60,
   "metadata": {},
   "outputs": [],
   "source": [
    "drop_features = ['Application order','Curricular units 2nd sem (credited)','Daytime/evening attendance','Curricular units 1st sem (credited)',\n",
    "                 'GDP','Course','Unemployment rate','Curricular units 2nd sem (evaluations)',\"Father's qualification\",'International',\n",
    "                 'Curricular units 1st sem (evaluations)']\n",
    "\n",
    "df_features = df_features.drop(drop_features,axis=1)"
   ]
  },
  {
   "cell_type": "code",
   "execution_count": 61,
   "metadata": {},
   "outputs": [
    {
     "data": {
      "text/plain": [
       "Index(['Marital Status', 'Application mode', 'Previous qualification',\n",
       "       'Previous qualification (grade)', 'Nacionality',\n",
       "       'Mother's qualification', 'Mother's occupation', 'Father's occupation',\n",
       "       'Admission grade', 'Displaced', 'Educational special needs', 'Debtor',\n",
       "       'Tuition fees up to date', 'Gender', 'Scholarship holder',\n",
       "       'Age at enrollment', 'Curricular units 1st sem (enrolled)',\n",
       "       'Curricular units 1st sem (approved)',\n",
       "       'Curricular units 1st sem (grade)',\n",
       "       'Curricular units 1st sem (without evaluations)',\n",
       "       'Curricular units 2nd sem (enrolled)',\n",
       "       'Curricular units 2nd sem (approved)',\n",
       "       'Curricular units 2nd sem (grade)',\n",
       "       'Curricular units 2nd sem (without evaluations)', 'Inflation rate'],\n",
       "      dtype='object')"
      ]
     },
     "execution_count": 61,
     "metadata": {},
     "output_type": "execute_result"
    }
   ],
   "source": [
    "df_features.columns"
   ]
  },
  {
   "cell_type": "markdown",
   "metadata": {},
   "source": [
    "### N-Unique Values in Target"
   ]
  },
  {
   "cell_type": "code",
   "execution_count": 62,
   "metadata": {},
   "outputs": [
    {
     "data": {
      "text/plain": [
       "Target    3\n",
       "dtype: int64"
      ]
     },
     "execution_count": 62,
     "metadata": {},
     "output_type": "execute_result"
    }
   ],
   "source": [
    "df_target.nunique()"
   ]
  },
  {
   "cell_type": "markdown",
   "metadata": {},
   "source": [
    "### Value counts in Target"
   ]
  },
  {
   "cell_type": "code",
   "execution_count": 63,
   "metadata": {},
   "outputs": [
    {
     "data": {
      "text/plain": [
       "Target  \n",
       "Graduate    2209\n",
       "Dropout     1421\n",
       "Enrolled     794\n",
       "dtype: int64"
      ]
     },
     "execution_count": 63,
     "metadata": {},
     "output_type": "execute_result"
    }
   ],
   "source": [
    "df_target.value_counts()"
   ]
  },
  {
   "cell_type": "markdown",
   "metadata": {},
   "source": [
    "### Checking for Missing Values"
   ]
  },
  {
   "cell_type": "code",
   "execution_count": 64,
   "metadata": {},
   "outputs": [
    {
     "data": {
      "text/plain": [
       "Marital Status                                    0\n",
       "Application mode                                  0\n",
       "Previous qualification                            0\n",
       "Previous qualification (grade)                    0\n",
       "Nacionality                                       0\n",
       "Mother's qualification                            0\n",
       "Mother's occupation                               0\n",
       "Father's occupation                               0\n",
       "Admission grade                                   0\n",
       "Displaced                                         0\n",
       "Educational special needs                         0\n",
       "Debtor                                            0\n",
       "Tuition fees up to date                           0\n",
       "Gender                                            0\n",
       "Scholarship holder                                0\n",
       "Age at enrollment                                 0\n",
       "Curricular units 1st sem (enrolled)               0\n",
       "Curricular units 1st sem (approved)               0\n",
       "Curricular units 1st sem (grade)                  0\n",
       "Curricular units 1st sem (without evaluations)    0\n",
       "Curricular units 2nd sem (enrolled)               0\n",
       "Curricular units 2nd sem (approved)               0\n",
       "Curricular units 2nd sem (grade)                  0\n",
       "Curricular units 2nd sem (without evaluations)    0\n",
       "Inflation rate                                    0\n",
       "dtype: int64"
      ]
     },
     "execution_count": 64,
     "metadata": {},
     "output_type": "execute_result"
    }
   ],
   "source": [
    "df_features.isnull().sum()"
   ]
  },
  {
   "cell_type": "markdown",
   "metadata": {},
   "source": [
    "### Checking for the outliers"
   ]
  },
  {
   "cell_type": "code",
   "execution_count": 65,
   "metadata": {},
   "outputs": [
    {
     "data": {
      "image/png": "[encoded data removed]",
      "text/plain": [
       "<Figure size 1500x500 with 1 Axes>"
      ]
     },
     "metadata": {},
     "output_type": "display_data"
    }
   ],
   "source": [
    "plt.figure(figsize=(15,5))\n",
    "plt.boxplot(df_features)\n",
    "plt.show()"
   ]
  },
  {
   "cell_type": "markdown",
   "metadata": {},
   "source": [
    "## Data Preprocessing \n",
    "- Encoding of Data\n",
    "- Scaling of Data\n",
    "- Removing outliers\n",
    "- Finding Missing values\n",
    "- Train test split"
   ]
  },
  {
   "cell_type": "markdown",
   "metadata": {},
   "source": [
    "### Data Encoding"
   ]
  },
  {
   "cell_type": "code",
   "execution_count": 66,
   "metadata": {},
   "outputs": [],
   "source": [
    "encoder = OrdinalEncoder()\n",
    "df_target_encoded = encoder.fit_transform(df_target)"
   ]
  },
  {
   "cell_type": "markdown",
   "metadata": {},
   "source": [
    "### Stardardization of Data"
   ]
  },
  {
   "cell_type": "code",
   "execution_count": 67,
   "metadata": {},
   "outputs": [],
   "source": [
    "scaler = StandardScaler()\n",
    "df_features_scaled = scaler.fit_transform(df_features)\n",
    "df_features_scaled = pd.DataFrame(df_features_scaled,columns=df_features.columns)"
   ]
  },
  {
   "cell_type": "markdown",
   "metadata": {},
   "source": [
    "### Removing Outliers"
   ]
  },
  {
   "cell_type": "code",
   "execution_count": 68,
   "metadata": {},
   "outputs": [
    {
     "data": {
      "image/png": "[encoded data removed]",
      "text/plain": [
       "<Figure size 1500x500 with 1 Axes>"
      ]
     },
     "metadata": {},
     "output_type": "display_data"
    }
   ],
   "source": [
    "Q1 = df_features.quantile(0.25)\n",
    "Q3 = df_features.quantile(0.75)\n",
    "IQR = Q3 - Q1\n",
    "\n",
    "lower_bound = Q1 - 1.5 * IQR\n",
    "upper_bound = Q3 + 1.5 * IQR\n",
    "\n",
    "df_features_NoOutliers = df_features_scaled[(df_features_scaled >= lower_bound) & (df_features_scaled <= upper_bound)]\n",
    "plt.figure(figsize=(15,5))\n",
    "plt.boxplot(df_features_NoOutliers)\n",
    "plt.show()"
   ]
  },
  {
   "cell_type": "markdown",
   "metadata": {},
   "source": [
    "### Filling Missing Values"
   ]
  },
  {
   "cell_type": "code",
   "execution_count": 69,
   "metadata": {},
   "outputs": [],
   "source": [
    "imputer = SimpleImputer()\n",
    "df_features_NoNaN = imputer.fit_transform(df_features_NoOutliers)"
   ]
  },
  {
   "cell_type": "code",
   "execution_count": 70,
   "metadata": {},
   "outputs": [
    {
     "name": "stdout",
     "output_type": "stream",
     "text": [
      "0\n",
      "(4424, 11)\n"
     ]
    }
   ],
   "source": [
    "print(np.isnan(df_features_NoNaN).sum())\n",
    "print(np.shape(df_features_NoNaN))"
   ]
  },
  {
   "cell_type": "code",
   "execution_count": 71,
   "metadata": {},
   "outputs": [],
   "source": [
    "df_features_prepared = pd.DataFrame(df_features_NoNaN)\n",
    "df_target_prepared = pd.DataFrame(df_target_encoded,columns=df_target.columns)"
   ]
  },
  {
   "cell_type": "markdown",
   "metadata": {},
   "source": [
    "### Train Test split"
   ]
  },
  {
   "cell_type": "code",
   "execution_count": 72,
   "metadata": {},
   "outputs": [
    {
     "name": "stdout",
     "output_type": "stream",
     "text": [
      "(3539, 11) (885, 11)\n",
      "(3539, 1) (885, 1)\n"
     ]
    }
   ],
   "source": [
    "X_train, X_test, y_train, y_test = train_test_split(df_features_prepared,df_target_prepared,test_size=0.2,random_state=42)\n",
    "print(X_train.shape,X_test.shape)\n",
    "print(y_train.shape,y_test.shape)"
   ]
  },
  {
   "cell_type": "markdown",
   "metadata": {},
   "source": [
    "## Model Building \n",
    "- Model selection\n",
    "- Model Evaluation\n",
    "    - Cross Validation Score\n",
    "    - Cross Validation Predict\n",
    "    - Confusion Matrix\n",
    "    - Precision\n",
    "    - Recall \n",
    "    - F1 Score\n",
    "- Model Hyperparameter Tuning\n",
    "- Model Fitting on Test set\n"
   ]
  },
  {
   "cell_type": "markdown",
   "metadata": {},
   "source": [
    "### Model Selection"
   ]
  },
  {
   "cell_type": "code",
   "execution_count": 73,
   "metadata": {},
   "outputs": [],
   "source": [
    "logistic_reg = LogisticRegression()\n",
    "adaBoost_clf = AdaBoostClassifier(LogisticRegression(),n_estimators=200,algorithm='SAMME.R',learning_rate=0.5)\n",
    "bagging_clf = BaggingClassifier(LogisticRegression(),n_estimators=20,n_jobs=-1,bootstrap=True)\n",
    "forest_clf = RandomForestClassifier(n_estimators=50,oob_score=True,n_jobs=-1)\n",
    "gradient_clf = GradientBoostingClassifier(max_depth=2,n_estimators=6,learning_rate=0.5)"
   ]
  },
  {
   "cell_type": "markdown",
   "metadata": {},
   "source": [
    "### Model Evaluation"
   ]
  },
  {
   "cell_type": "markdown",
   "metadata": {},
   "source": [
    "### Cross validation score"
   ]
  },
  {
   "cell_type": "code",
   "execution_count": 81,
   "metadata": {},
   "outputs": [
    {
     "name": "stdout",
     "output_type": "stream",
     "text": [
      "Estimator:LogisticRegression\n",
      "Score:[0.73220339 0.71440678 0.72773537]\n",
      "\n",
      "Estimator:AdaBoostClassifier\n",
      "Score:[0.69745763 0.70508475 0.70992366]\n",
      "\n",
      "Estimator:BaggingClassifier\n",
      "Score:[0.73389831 0.71610169 0.72603902]\n",
      "\n",
      "Estimator:RandomForestClassifier\n",
      "Score:[0.70677966 0.71186441 0.71077184]\n",
      "\n",
      "Estimator:GradientBoostingClassifier\n",
      "Score:[0.71440678 0.7279661  0.72943172]\n",
      "\n"
     ]
    }
   ],
   "source": [
    "for estimators in (logistic_reg,adaBoost_clf,bagging_clf,forest_clf,gradient_clf):\n",
    "    score = cross_val_score(estimators,X_train,y_train,cv=3,scoring='accuracy')\n",
    "    print(f\"Estimator:{estimators.__class__.__name__}\\nScore:{score}\\n\")"
   ]
  },
  {
   "cell_type": "markdown",
   "metadata": {},
   "source": [
    "### Cross Validation Predict"
   ]
  },
  {
   "cell_type": "code",
   "execution_count": 80,
   "metadata": {},
   "outputs": [
    {
     "name": "stdout",
     "output_type": "stream",
     "text": [
      "Estimator:LogisticRegression\n",
      "Precision:0.6948243018951131\n",
      "Recall:0.7247810115851936\n",
      "F1 Score:0.6749302044454011\n",
      "\n",
      "Estimator:AdaBoostClassifier\n",
      "Precision:0.6682866092134436\n",
      "Recall:0.7041537157389093\n",
      "F1 Score:0.672541277115288\n",
      "\n",
      "Estimator:BaggingClassifier\n",
      "Precision:0.6958392110618472\n",
      "Recall:0.7259112743712913\n",
      "F1 Score:0.6755844571415224\n",
      "\n",
      "Estimator:RandomForestClassifier\n",
      "Precision:0.6897268163775879\n",
      "Recall:0.7140435151172647\n",
      "F1 Score:0.6958986757051215\n",
      "\n",
      "Estimator:GradientBoostingClassifier\n",
      "Precision:0.6933866065285196\n",
      "Recall:0.7239333144956203\n",
      "F1 Score:0.6976692959237776\n",
      "\n"
     ]
    }
   ],
   "source": [
    "for estimators in (logistic_reg,adaBoost_clf,bagging_clf,forest_clf,gradient_clf):\n",
    "    val_pred = cross_val_predict(estimators,X_train,y_train,cv=3)\n",
    "    print(f'Estimator:{estimators.__class__.__name__}\\nPrecision:{precision_score(y_train,val_pred,average=\"weighted\")}\\nRecall:{recall_score(y_train,val_pred,average=\"weighted\")}\\nF1 Score:{f1_score(y_train,val_pred,average=\"weighted\")}\\n')"
   ]
  },
  {
   "cell_type": "markdown",
   "metadata": {},
   "source": [
    "### Confusion Matrix"
   ]
  },
  {
   "cell_type": "code",
   "execution_count": 79,
   "metadata": {},
   "outputs": [
    {
     "name": "stdout",
     "output_type": "stream",
     "text": [
      "LogisticRegression\n"
     ]
    },
    {
     "data": {
      "image/png": "[encoded data removed]",
      "text/plain": [
       "<Figure size 640x480 with 2 Axes>"
      ]
     },
     "metadata": {},
     "output_type": "display_data"
    },
    {
     "name": "stdout",
     "output_type": "stream",
     "text": [
      "AdaBoostClassifier\n"
     ]
    },
    {
     "data": {
      "image/png": "[encoded data removed]",
      "text/plain": [
       "<Figure size 640x480 with 2 Axes>"
      ]
     },
     "metadata": {},
     "output_type": "display_data"
    },
    {
     "name": "stdout",
     "output_type": "stream",
     "text": [
      "BaggingClassifier\n"
     ]
    },
    {
     "data": {
      "image/png": "[encoded data removed]",
      "text/plain": [
       "<Figure size 640x480 with 2 Axes>"
      ]
     },
     "metadata": {},
     "output_type": "display_data"
    },
    {
     "name": "stdout",
     "output_type": "stream",
     "text": [
      "RandomForestClassifier\n"
     ]
    },
    {
     "data": {
      "image/png": "[encoded data removed]",
      "text/plain": [
       "<Figure size 640x480 with 2 Axes>"
      ]
     },
     "metadata": {},
     "output_type": "display_data"
    },
    {
     "name": "stdout",
     "output_type": "stream",
     "text": [
      "GradientBoostingClassifier\n"
     ]
    },
    {
     "data": {
      "image/png": "[encoded data removed]",
      "text/plain": [
       "<Figure size 640x480 with 2 Axes>"
      ]
     },
     "metadata": {},
     "output_type": "display_data"
    }
   ],
   "source": [
    "for estimators in (logistic_reg,adaBoost_clf,bagging_clf,forest_clf,gradient_clf):\n",
    "    conf_pred = cross_val_predict(estimators,X_train,y_train,cv=3)\n",
    "    confusion_mat = confusion_matrix(y_train,conf_pred)\n",
    "    print(estimators.__class__.__name__)\n",
    "    ConfusionMatrixDisplay(confusion_matrix=confusion_mat).plot()\n",
    "    plt.show()"
   ]
  },
  {
   "cell_type": "markdown",
   "metadata": {},
   "source": [
    "### Model Hyperparameter Tuning"
   ]
  },
  {
   "cell_type": "code",
   "execution_count": 83,
   "metadata": {},
   "outputs": [
    {
     "data": {
      "text/html": [
       "<style>#sk-container-id-1 {color: black;background-color: white;}#sk-container-id-1 pre{padding: 0;}#sk-container-id-1 div.sk-toggleable {background-color: white;}#sk-container-id-1 label.sk-toggleable__label {cursor: pointer;display: block;width: 100%;margin-bottom: 0;padding: 0.3em;box-sizing: border-box;text-align: center;}#sk-container-id-1 label.sk-toggleable__label-arrow:before {content: \"▸\";float: left;margin-right: 0.25em;color: #696969;}#sk-container-id-1 label.sk-toggleable__label-arrow:hover:before {color: black;}#sk-container-id-1 div.sk-estimator:hover label.sk-toggleable__label-arrow:before {color: black;}#sk-container-id-1 div.sk-toggleable__content {max-height: 0;max-width: 0;overflow: hidden;text-align: left;background-color: #f0f8ff;}#sk-container-id-1 div.sk-toggleable__content pre {margin: 0.2em;color: black;border-radius: 0.25em;background-color: #f0f8ff;}#sk-container-id-1 input.sk-toggleable__control:checked~div.sk-toggleable__content {max-height: 200px;max-width: 100%;overflow: auto;}#sk-container-id-1 input.sk-toggleable__control:checked~label.sk-toggleable__label-arrow:before {content: \"▾\";}#sk-container-id-1 div.sk-estimator input.sk-toggleable__control:checked~label.sk-toggleable__label {background-color: #d4ebff;}#sk-container-id-1 div.sk-label input.sk-toggleable__control:checked~label.sk-toggleable__label {background-color: #d4ebff;}#sk-container-id-1 input.sk-hidden--visually {border: 0;clip: rect(1px 1px 1px 1px);clip: rect(1px, 1px, 1px, 1px);height: 1px;margin: -1px;overflow: hidden;padding: 0;position: absolute;width: 1px;}#sk-container-id-1 div.sk-estimator {font-family: monospace;background-color: #f0f8ff;border: 1px dotted black;border-radius: 0.25em;box-sizing: border-box;margin-bottom: 0.5em;}#sk-container-id-1 div.sk-estimator:hover {background-color: #d4ebff;}#sk-container-id-1 div.sk-parallel-item::after {content: \"\";width: 100%;border-bottom: 1px solid gray;flex-grow: 1;}#sk-container-id-1 div.sk-label:hover label.sk-toggleable__label {background-color: #d4ebff;}#sk-container-id-1 div.sk-serial::before {content: \"\";position: absolute;border-left: 1px solid gray;box-sizing: border-box;top: 0;bottom: 0;left: 50%;z-index: 0;}#sk-container-id-1 div.sk-serial {display: flex;flex-direction: column;align-items: center;background-color: white;padding-right: 0.2em;padding-left: 0.2em;position: relative;}#sk-container-id-1 div.sk-item {position: relative;z-index: 1;}#sk-container-id-1 div.sk-parallel {display: flex;align-items: stretch;justify-content: center;background-color: white;position: relative;}#sk-container-id-1 div.sk-item::before, #sk-container-id-1 div.sk-parallel-item::before {content: \"\";position: absolute;border-left: 1px solid gray;box-sizing: border-box;top: 0;bottom: 0;left: 50%;z-index: -1;}#sk-container-id-1 div.sk-parallel-item {display: flex;flex-direction: column;z-index: 1;position: relative;background-color: white;}#sk-container-id-1 div.sk-parallel-item:first-child::after {align-self: flex-end;width: 50%;}#sk-container-id-1 div.sk-parallel-item:last-child::after {align-self: flex-start;width: 50%;}#sk-container-id-1 div.sk-parallel-item:only-child::after {width: 0;}#sk-container-id-1 div.sk-dashed-wrapped {border: 1px dashed gray;margin: 0 0.4em 0.5em 0.4em;box-sizing: border-box;padding-bottom: 0.4em;background-color: white;}#sk-container-id-1 div.sk-label label {font-family: monospace;font-weight: bold;display: inline-block;line-height: 1.2em;}#sk-container-id-1 div.sk-label-container {text-align: center;}#sk-container-id-1 div.sk-container {/* jupyter's `normalize.less` sets `[hidden] { display: none; }` but bootstrap.min.css set `[hidden] { display: none !important; }` so we also need the `!important` here to be able to override the default hidden behavior on the sphinx rendered scikit-learn.org. See: https://github.com/scikit-learn/scikit-learn/issues/21755 */display: inline-block !important;position: relative;}#sk-container-id-1 div.sk-text-repr-fallback {display: none;}</style><div id=\"sk-container-id-1\" class=\"sk-top-container\"><div class=\"sk-text-repr-fallback\"><pre>GridSearchCV(cv=3,\n",
       "             estimator=GradientBoostingClassifier(learning_rate=0.5,\n",
       "                                                  max_depth=2, n_estimators=6),\n",
       "             n_jobs=-1,\n",
       "             param_grid={&#x27;learning_rate&#x27;: [0.01, 0.1, 0.2],\n",
       "                         &#x27;min_samples_leaf&#x27;: [1, 2, 4],\n",
       "                         &#x27;min_samples_split&#x27;: [2, 5, 10],\n",
       "                         &#x27;n_estimators&#x27;: [50, 100, 150]})</pre><b>In a Jupyter environment, please rerun this cell to show the HTML representation or trust the notebook. <br />On GitHub, the HTML representation is unable to render, please try loading this page with nbviewer.org.</b></div><div class=\"sk-container\" hidden><div class=\"sk-item sk-dashed-wrapped\"><div class=\"sk-label-container\"><div class=\"sk-label sk-toggleable\"><input class=\"sk-toggleable__control sk-hidden--visually\" id=\"sk-estimator-id-1\" type=\"checkbox\" ><label for=\"sk-estimator-id-1\" class=\"sk-toggleable__label sk-toggleable__label-arrow\">GridSearchCV</label><div class=\"sk-toggleable__content\"><pre>GridSearchCV(cv=3,\n",
       "             estimator=GradientBoostingClassifier(learning_rate=0.5,\n",
       "                                                  max_depth=2, n_estimators=6),\n",
       "             n_jobs=-1,\n",
       "             param_grid={&#x27;learning_rate&#x27;: [0.01, 0.1, 0.2],\n",
       "                         &#x27;min_samples_leaf&#x27;: [1, 2, 4],\n",
       "                         &#x27;min_samples_split&#x27;: [2, 5, 10],\n",
       "                         &#x27;n_estimators&#x27;: [50, 100, 150]})</pre></div></div></div><div class=\"sk-parallel\"><div class=\"sk-parallel-item\"><div class=\"sk-item\"><div class=\"sk-label-container\"><div class=\"sk-label sk-toggleable\"><input class=\"sk-toggleable__control sk-hidden--visually\" id=\"sk-estimator-id-2\" type=\"checkbox\" ><label for=\"sk-estimator-id-2\" class=\"sk-toggleable__label sk-toggleable__label-arrow\">estimator: GradientBoostingClassifier</label><div class=\"sk-toggleable__content\"><pre>GradientBoostingClassifier(learning_rate=0.5, max_depth=2, n_estimators=6)</pre></div></div></div><div class=\"sk-serial\"><div class=\"sk-item\"><div class=\"sk-estimator sk-toggleable\"><input class=\"sk-toggleable__control sk-hidden--visually\" id=\"sk-estimator-id-3\" type=\"checkbox\" ><label for=\"sk-estimator-id-3\" class=\"sk-toggleable__label sk-toggleable__label-arrow\">GradientBoostingClassifier</label><div class=\"sk-toggleable__content\"><pre>GradientBoostingClassifier(learning_rate=0.5, max_depth=2, n_estimators=6)</pre></div></div></div></div></div></div></div></div></div></div>"
      ],
      "text/plain": [
       "GridSearchCV(cv=3,\n",
       "             estimator=GradientBoostingClassifier(learning_rate=0.5,\n",
       "                                                  max_depth=2, n_estimators=6),\n",
       "             n_jobs=-1,\n",
       "             param_grid={'learning_rate': [0.01, 0.1, 0.2],\n",
       "                         'min_samples_leaf': [1, 2, 4],\n",
       "                         'min_samples_split': [2, 5, 10],\n",
       "                         'n_estimators': [50, 100, 150]})"
      ]
     },
     "execution_count": 83,
     "metadata": {},
     "output_type": "execute_result"
    }
   ],
   "source": [
    "param_grid = {\n",
    "    'n_estimators': [50, 100, 150],  # Number of boosting stages to be run\n",
    "    'learning_rate': [0.01, 0.1, 0.2],  # Step size shrinkage to prevent overfitting\n",
    "    'min_samples_split': [2, 5, 10],  # Minimum number of samples required to split an internal node\n",
    "    'min_samples_leaf': [1, 2, 4],  # Minimum number of samples required to be at a leaf node\n",
    "}\n",
    "\n",
    "grid_search = GridSearchCV(estimator=gradient_clf,param_grid=param_grid,cv=3,n_jobs=-1)\n",
    "grid_search.fit(X_train,y_train)"
   ]
  },
  {
   "cell_type": "code",
   "execution_count": 84,
   "metadata": {},
   "outputs": [
    {
     "name": "stdout",
     "output_type": "stream",
     "text": [
      "{'learning_rate': 0.2, 'min_samples_leaf': 4, 'min_samples_split': 2, 'n_estimators': 100}\n",
      "0.7358019100741315\n",
      "GradientBoostingClassifier(learning_rate=0.2, max_depth=2, min_samples_leaf=4)\n"
     ]
    }
   ],
   "source": [
    "print(grid_search.best_params_)\n",
    "print(grid_search.best_score_)\n",
    "print(grid_search.best_estimator_)"
   ]
  },
  {
   "cell_type": "markdown",
   "metadata": {},
   "source": [
    "### Model Fitting on a test set"
   ]
  },
  {
   "cell_type": "code",
   "execution_count": 86,
   "metadata": {},
   "outputs": [
    {
     "name": "stdout",
     "output_type": "stream",
     "text": [
      "              precision    recall  f1-score   support\n",
      "\n",
      "         0.0       0.78      0.69      0.74       316\n",
      "         1.0       0.43      0.23      0.30       151\n",
      "         2.0       0.73      0.92      0.82       418\n",
      "\n",
      "    accuracy                           0.72       885\n",
      "   macro avg       0.65      0.61      0.62       885\n",
      "weighted avg       0.70      0.72      0.70       885\n",
      "\n"
     ]
    }
   ],
   "source": [
    "final_model = grid_search.best_estimator_\n",
    "y_pred = final_model.predict(X_test)\n",
    "print(classification_report(y_true=y_test,y_pred=y_pred))"
   ]
  },
  {
   "cell_type": "markdown",
   "metadata": {},
   "source": [
    "### `NOTE:` End to End Machine learning project for Student Dropout and Academic Success. Visit more on:www.github.com/itechdp"
   ]
  }
 ],
 "metadata": {
  "kernelspec": {
   "display_name": "Python 3",
   "language": "python",
   "name": "python3"
  },
  "language_info": {
   "codemirror_mode": {
    "name": "ipython",
    "version": 3
   },
   "file_extension": ".py",
   "mimetype": "text/x-python",
   "name": "python",
   "nbconvert_exporter": "python",
   "pygments_lexer": "ipython3",
   "version": "3.11.4"
  }
 },
 "nbformat": 4,
 "nbformat_minor": 2
}
